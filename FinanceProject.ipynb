{
 "cells": [
  {
   "cell_type": "code",
   "execution_count": 157,
   "metadata": {},
   "outputs": [],
   "source": [
    "import matplotlib as plt\n",
    "import pandas as pd\n",
    "import csv\n",
    "import re\n",
    "import numpy as np\n",
    "import string as str\n"
   ]
  },
  {
   "cell_type": "code",
   "execution_count": 158,
   "metadata": {},
   "outputs": [],
   "source": [
    "debit = pd.read_csv('Checking1.csv', names=['Date', 'Cost', 'Unknown', 'Unnamed', 'DebitCardUse'])\n"
   ]
  },
  {
   "cell_type": "code",
   "execution_count": 159,
   "metadata": {},
   "outputs": [],
   "source": [
    "credit = pd.read_csv('CreditCard3.csv', names=['Date', 'Cost', 'Unknown','Unnamed','CreditCardUse'])"
   ]
  },
  {
   "cell_type": "code",
   "execution_count": 160,
   "metadata": {
    "scrolled": true
   },
   "outputs": [],
   "source": [
    "debit=debit.drop(['Unknown', 'Unnamed'], axis=1)\n",
    "credit=credit.drop(['Unnamed','Unknown'], axis=1)"
   ]
  },
  {
   "cell_type": "code",
   "execution_count": null,
   "metadata": {},
   "outputs": [],
   "source": []
  },
  {
   "cell_type": "code",
   "execution_count": 161,
   "metadata": {},
   "outputs": [],
   "source": [
    "debit['Purchase']=0\n",
    "pattern = re.compile(r'^PURCHASE AUTHORIZED*')\n",
    "for i in debit['DebitCardUse']:\n",
    "    if pattern.search(i):\n",
    "        index = debit.loc[debit['DebitCardUse'] == i].index[0]\n",
    "        debit.iloc[index, debit.columns.get_loc('Purchase')] = 1\n"
   ]
  },
  {
   "cell_type": "code",
   "execution_count": 169,
   "metadata": {},
   "outputs": [],
   "source": [
    "debit['State']=debit['DebitCardUse'].str.extract('((?<=\\s)[A-Z][A-Z](?=\\s[A-Z]\\d+))')\n",
    "debit['City']=debit['DebitCardUse'].str.extract('((SAINT\\s|SALT LAKE\\s|LA\\s)?[A-Z]*(?=\\s[A-Z][A-Z]\\s[A-Z]\\d+))')[0]\n",
    "debit['Stores']=debit['DebitCardUse'].str.extract('((?<=PURCHASE AUTHORIZED ON\\s\\d\\d/\\d\\d\\s)(#)?\\w+.+?\\w+\\s\\w+\\s)')[0]"
   ]
  },
  {
   "cell_type": "code",
   "execution_count": 171,
   "metadata": {},
   "outputs": [],
   "source": [
    "debit= debit.drop('DebitCardUse', axis=1)"
   ]
  },
  {
   "cell_type": "code",
   "execution_count": 174,
   "metadata": {},
   "outputs": [],
   "source": [
    "debit.to_csv('Debit_Edited')"
   ]
  },
  {
   "cell_type": "code",
   "execution_count": 186,
   "metadata": {},
   "outputs": [],
   "source": [
    "credit['State']=credit['CreditCardUse'].str.extract('([A-Z][A-Z]$)')\n",
    "credit['City']=credit['CreditCardUse'].str.extract('([A-Z]+(?=\\s[A-Z][A-Z]$))')\n",
    "credit['Stores']=credit['CreditCardUse'].str.extract('(^\\w+.\\w+(\\sPAYMENT)?)')[0]"
   ]
  },
  {
   "cell_type": "code",
   "execution_count": 188,
   "metadata": {},
   "outputs": [],
   "source": [
    "credit=credit.drop('CreditCardUse', axis=1)"
   ]
  },
  {
   "cell_type": "code",
   "execution_count": 190,
   "metadata": {},
   "outputs": [],
   "source": [
    "credit.to_csv('Credit_Edited')"
   ]
  },
  {
   "cell_type": "code",
   "execution_count": null,
   "metadata": {},
   "outputs": [],
   "source": []
  }
 ],
 "metadata": {
  "kernelspec": {
   "display_name": "Python 3",
   "language": "python",
   "name": "python3"
  },
  "language_info": {
   "codemirror_mode": {
    "name": "ipython",
    "version": 3
   },
   "file_extension": ".py",
   "mimetype": "text/x-python",
   "name": "python",
   "nbconvert_exporter": "python",
   "pygments_lexer": "ipython3",
   "version": "3.6.7"
  }
 },
 "nbformat": 4,
 "nbformat_minor": 2
}
