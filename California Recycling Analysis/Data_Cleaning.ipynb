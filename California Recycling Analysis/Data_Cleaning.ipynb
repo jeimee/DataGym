{
 "cells": [
  {
   "cell_type": "markdown",
   "metadata": {},
   "source": [
    "# Data Cleaning"
   ]
  },
  {
   "cell_type": "markdown",
   "metadata": {},
   "source": [
    "## Creating a Full California Dataset by merging Residential and Business Data:"
   ]
  },
  {
   "cell_type": "code",
   "execution_count": 1,
   "metadata": {
    "collapsed": true
   },
   "outputs": [],
   "source": [
    "import csv\n",
    "import pandas as pd\n",
    "import re\n",
    "path = r'Data_Folder/Cleaned_Data/'\n",
    "path1 = r'Data_Folder/Others/'"
   ]
  },
  {
   "cell_type": "markdown",
   "metadata": {},
   "source": [
    "First, I read in the Residential and Business csv files, drop duplicate columns, and do a one-to-one merge."
   ]
  },
  {
   "cell_type": "code",
   "execution_count": 2,
   "metadata": {
    "collapsed": true
   },
   "outputs": [],
   "source": [
    "\"\"\"Reading in csv files and dropping duplicate columns\"\"\"\n",
    "CA_Cn = pd.read_csv(path + 'CA_Bus_Cn.csv')\n",
    "CA_Cn = CA_Cn.drop(['Unnamed: 0', 'Unnamed: 0.1'],1)\n",
    "\n",
    "Res_Cn = pd.read_csv(path + 'CA_Res_Cn.csv')\n",
    "Res_Cn = Res_Cn.drop(['Unnamed: 0'],1)\n",
    "\"\"\"Merging two datasets one-toCA_Cn = CA_Cn.reset_index()\n",
    "-one\"\"\"\n",
    "merge_list = ['Material Category', 'Material Type', 'Jurisdiction(s)']\n",
    "CA_Cn = CA_Cn.merge(Res_Cn, left_on=merge_list, right_on = merge_list)\n",
    "CA_Cn = CA_Cn.sort_values('Jurisdiction(s)')\n",
    "CA_Cn = CA_Cn.reset_index(drop=True)\n",
    "CA_Cn.to_csv('CA_Cn.csv')"
   ]
  },
  {
   "cell_type": "markdown",
   "metadata": {},
   "source": [
    "## Creating a Dataset with county characteristics:\n",
    "First I clean voting data and income data, and then merge one-to-one the two datasets."
   ]
  },
  {
   "cell_type": "code",
   "execution_count": 3,
   "metadata": {
    "collapsed": true
   },
   "outputs": [],
   "source": [
    "vote = pd.read_csv(path1 + 'CA_VoteReg.csv')\n",
    "\"\"\" Removes the superfluous rows, drop rows\n",
    "with missing values, and change strings to floats.\"\"\"\n",
    "vote.columns = vote.iloc[2]\n",
    "vote = vote.reindex(vote.index.drop([0,2]))\n",
    "vote = vote.dropna()\n",
    "for i in vote.columns:\n",
    "    if i != 'County':\n",
    "        vote[i] = vote[i].str.replace(\",\",\"\").astype(float)\n",
    "vote = vote.reset_index(drop=True)\n",
    "\"\"\" Removes state total row in order to merge \"\"\"\n",
    "state_total_id = vote[vote['County']== 'State Total'].index[0]\n",
    "vote = vote.drop(vote.index[state_total_id])\n",
    "vote = vote.sort_values('County')"
   ]
  },
  {
   "cell_type": "code",
   "execution_count": 4,
   "metadata": {
    "collapsed": true
   },
   "outputs": [],
   "source": [
    "income = pd.read_csv(path1 + 'CountyIncome.csv', dtype={2:'str'})\n",
    "\"\"\" Organize rows and change strings into floats\"\"\"\n",
    "income = income.sort_values('County')\n",
    "income = income.reset_index()\n",
    "income = income.drop('index',1)\n",
    "\n",
    "income_list = ['Returns', 'AGI', 'Median Income',\n",
    "               'Taxable Assessed', 'Population']\n",
    "for i in income_list:\n",
    "    income[i]= income[i].str.replace(',', '')\n",
    "    income[i]= income[i].str.replace('$', '')\n",
    "    income[i] = income[i].astype(float)\n"
   ]
  },
  {
   "cell_type": "code",
   "execution_count": 5,
   "metadata": {
    "collapsed": true
   },
   "outputs": [],
   "source": [
    "\"\"\" Merge 1-1 voter data set with income data set\"\"\"\n",
    "info = vote.merge(income, left_on=['County'], right_on = ['County'])\n",
    "info.to_csv('Info.csv')\n"
   ]
  },
  {
   "cell_type": "markdown",
   "metadata": {},
   "source": [
    "Now I clean the educational attainment data and merge education to the characteristic data set."
   ]
  },
  {
   "cell_type": "code",
   "execution_count": 6,
   "metadata": {
    "collapsed": true
   },
   "outputs": [],
   "source": [
    "edu = pd.read_csv('Data_Folder/Others/CA_edu.csv', low_memory = False)\n",
    "\"\"\" Only keep columns about counties for educational attainment\"\"\"\n",
    "edu = edu.filter(['ind_definition', 'strata_one_name','geotype',\n",
    "                  'race_eth_name','reportyear','county_name',\n",
    "                  'numerator', 'denominator', 'estimate'])\n",
    "edu = edu.dropna(subset=['county_name'])\n",
    "edu = edu.sort_values('county_name')\n",
    "edu=edu[(edu['race_eth_name']== 'Total') & (edu['reportyear']=='2011-2015')]\n",
    "edu = edu[edu['geotype']=='CO']\n",
    "edu['strata_one_name'] = edu['strata_one_name'].fillna(0)\n",
    "edu = edu[edu['strata_one_name']== 0]\n",
    "edu = edu.reset_index()\n",
    "edu = edu.drop(['ind_definition', 'strata_one_name', \n",
    "                'geotype', 'race_eth_name'],1)\n",
    "edu = edu.rename(columns={'numerator': 'edu_num', 'denominator': 'edu_den',\n",
    "                   'estimate': 'edu_perc'})"
   ]
  },
  {
   "cell_type": "code",
   "execution_count": 7,
   "metadata": {
    "collapsed": true
   },
   "outputs": [],
   "source": [
    "\"\"\"merge education data to the characteristic data set\"\"\"\n",
    "Total_Info = info.merge(edu, left_on=['County'], right_on = ['county_name'])"
   ]
  },
  {
   "cell_type": "code",
   "execution_count": 8,
   "metadata": {
    "collapsed": true
   },
   "outputs": [],
   "source": [
    "Total_Info.to_csv(path + 'Total_Info.csv')"
   ]
  },
  {
   "cell_type": "markdown",
   "metadata": {},
   "source": [
    "## Merge the california business and residential data set with the characteristic data set:\n"
   ]
  },
  {
   "cell_type": "code",
   "execution_count": 9,
   "metadata": {
    "collapsed": true
   },
   "outputs": [],
   "source": [
    "\"\"\" Clean to have the same merging variable \"\"\"\n",
    "county_clean = re.compile(r'\\s\\(Countywide\\)')\n",
    "CA_Cn['County'] = CA_Cn['Jurisdiction(s)'].str.replace(county_clean, '')\n",
    "CA_Cn = CA_Cn.drop('Jurisdiction(s)', 1)"
   ]
  },
  {
   "cell_type": "code",
   "execution_count": 10,
   "metadata": {
    "collapsed": true
   },
   "outputs": [],
   "source": [
    "total = pd.merge(CA_Cn, Total_Info, left_on=\"County\", right_on=\"County\", \n",
    "                 how= \"left\", validate = \"m:1\")"
   ]
  },
  {
   "cell_type": "code",
   "execution_count": 11,
   "metadata": {
    "collapsed": true
   },
   "outputs": [],
   "source": [
    "total = total.reindex(columns=(['County']+\n",
    "                               list([a for a in total.columns if\n",
    "                                     a != 'County'])))"
   ]
  },
  {
   "cell_type": "markdown",
   "metadata": {},
   "source": [
    "## Create percentage columns for analysis: "
   ]
  },
  {
   "cell_type": "code",
   "execution_count": 48,
   "metadata": {},
   "outputs": [],
   "source": [
    "\"\"\" Create percentage columns \"\"\"\n",
    "total['Total Waste'] = total['Total Disposed Tons'] + total['Total Curbside Recycle Tons']\\\n",
    "                    + total['Total Curbside Organics Tons'] + \\\n",
    "                    total['Total Other Diversion Tons']\n",
    "total['Disp_perc'] = (total['Total Disposed Tons']/ \n",
    "                   total['Total Waste']) * 100\n",
    "total['Rec_perc'] = (total['Total Curbside Recycle Tons']/ \n",
    "                  total['Total Waste']) * 100\n",
    "total['Recycling Totals'] = total.groupby('Material Category') \\\n",
    "                        ['Material Tons in Curbside Recycle'].transform('sum')\n",
    "total['Disposal Totals'] = total.groupby('Material Category') \\\n",
    "                        ['Material Tons Disposed'].transform('sum')\n",
    "total['Compost Totals'] = total.groupby('Material Category') \\\n",
    "                        ['Material Tons in Curbside Organics'].\\\n",
    "                        transform('sum')\n",
    "total['Other Totals'] = total.groupby('Material Category') \\\n",
    "                        ['Material Tons in Other Diversion'].transform('sum')\n",
    "total.to_csv('Complete_CA.csv')"
   ]
  },
  {
   "cell_type": "markdown",
   "metadata": {},
   "source": [
    "## Create California Data Set with no Organic Materials:\n",
    "<br>\n",
    "Organic materials are not recyclable and skew how well counties recycle their waste. For example, some counties produce many organic waste from being agricultural and so they would have low recycling percentage."
   ]
  },
  {
   "cell_type": "code",
   "execution_count": 45,
   "metadata": {},
   "outputs": [],
   "source": [
    "no_org = total[total['Material Category']!= 'Other Organic']\n",
    "no_org = no_org[no_org.columns.drop(list(no_org.filter(regex='^Total')))]\n",
    "no_org['material_generated'] = no_org['Material Tons Generated (Sum of all Streams)']\n",
    "no_org['Total Waste'] = no_org.groupby('County')['material_generated'].\\\n",
    "                        transform('sum')\n",
    "no_org['Total_rec'] = no_org.groupby('County')\\\n",
    "                    ['Material Tons in Curbside Recycle'].transform('sum')\n",
    "no_org['Total_disp'] = no_org.groupby('County')\\\n",
    "                    ['Material Tons Disposed'].transform('sum')"
   ]
  },
  {
   "cell_type": "markdown",
   "metadata": {},
   "source": [
    "## Create percentage columns for analysis:"
   ]
  },
  {
   "cell_type": "code",
   "execution_count": null,
   "metadata": {
    "collapsed": true
   },
   "outputs": [],
   "source": [
    "no_org['Rec_perc'] = (no_org['Total_rec'] / no_org['Total Waste']) * 100\n",
    "no_org['Disp_perc'] = (no_org['Total_disp'] / no_org['Total Waste']) * 100\n",
    "no_org['DV_perc'] = (no_org['Democratic']/ no_org['Registered']) * 100\n",
    "no_org['Rep_perc'] =(no_org['Republican']/ no_org['Registered']) * 100\n",
    "no_org['Green_perc'] = (no_org['Green']/ no_org['Registered']) * 100\n",
    "no_org.reset_index(drop=True)\n",
    "no_org.to_csv('CA_No_Organic.csv')"
   ]
  }
 ],
 "metadata": {
  "kernelspec": {
   "display_name": "Python 3",
   "language": "python",
   "name": "python3"
  },
  "language_info": {
   "codemirror_mode": {
    "name": "ipython",
    "version": 3
   },
   "file_extension": ".py",
   "mimetype": "text/x-python",
   "name": "python",
   "nbconvert_exporter": "python",
   "pygments_lexer": "ipython3",
   "version": "3.6.6"
  }
 },
 "nbformat": 4,
 "nbformat_minor": 2
}
