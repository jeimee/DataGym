{
 "cells": [
  {
   "cell_type": "code",
   "execution_count": 119,
   "metadata": {},
   "outputs": [],
   "source": [
    "import matplotlib.pyplot as plt\n",
    "import pandas as pd\n",
    "import csv\n",
    "import re\n",
    "import numpy as np\n",
    "import string as str\n",
    "from datetime import datetime\n"
   ]
  },
  {
   "cell_type": "code",
   "execution_count": 15,
   "metadata": {},
   "outputs": [],
   "source": [
    "debit = pd.read_csv('Checking1 (1).csv', names=['Date', 'Cost', 'Unknown', 'Unnamed', 'DebitCardUse'])\n"
   ]
  },
  {
   "cell_type": "code",
   "execution_count": 3,
   "metadata": {},
   "outputs": [],
   "source": [
    "#credit = pd.read_csv('CreditCard3.csv', names=['Date', 'Cost', 'Unknown','Unnamed','CreditCardUse'])"
   ]
  },
  {
   "cell_type": "code",
   "execution_count": 4,
   "metadata": {
    "scrolled": true
   },
   "outputs": [],
   "source": [
    "debit=debit.drop(['Unknown', 'Unnamed'], axis=1)\n",
    "#credit=credit.drop(['Unnamed','Unknown'], axis=1)"
   ]
  },
  {
   "cell_type": "code",
   "execution_count": 5,
   "metadata": {},
   "outputs": [],
   "source": [
    "debit['Purchase']=0\n",
    "pattern = re.compile(r'^PURCHASE AUTHORIZED*')\n",
    "for i in debit['DebitCardUse']:\n",
    "    if pattern.search(i):\n",
    "        index = debit.loc[debit['DebitCardUse'] == i].index[0]\n",
    "        debit.iloc[index, debit.columns.get_loc('Purchase')] = 1\n"
   ]
  },
  {
   "cell_type": "code",
   "execution_count": 6,
   "metadata": {},
   "outputs": [],
   "source": [
    "debit['State']=debit['DebitCardUse'].str.extract('((?<=\\s)[A-Z][A-Z](?=\\s[A-Z]\\d+))')\n",
    "debit['City']=debit['DebitCardUse'].str.extract('((SAINT\\s|SALT LAKE\\s|LA\\s)?[A-Z]*(?=\\s[A-Z][A-Z]\\s[A-Z]\\d+))')[0]\n",
    "debit['Stores']=debit['DebitCardUse'].str.extract('((?<=PURCHASE AUTHORIZED ON\\s\\d\\d/\\d\\d\\s)(#)?\\w+.+?\\w+\\s\\w+\\s)')[0]"
   ]
  },
  {
   "cell_type": "code",
   "execution_count": 7,
   "metadata": {},
   "outputs": [],
   "source": [
    "debit= debit.drop('DebitCardUse', axis=1)"
   ]
  },
  {
   "cell_type": "code",
   "execution_count": 8,
   "metadata": {},
   "outputs": [],
   "source": [
    "debit.to_csv('Debit_Edited1')"
   ]
  },
  {
   "cell_type": "code",
   "execution_count": 186,
   "metadata": {},
   "outputs": [],
   "source": [
    "#credit['State']=credit['CreditCardUse'].str.extract('([A-Z][A-Z]$)')\n",
    "#credit['City']=credit['CreditCardUse'].str.extract('([A-Z]+(?=\\s[A-Z][A-Z]$))')\n",
    "#credit['Stores']=credit['CreditCardUse'].str.extract('(^\\w+.\\w+(\\sPAYMENT)?)')[0]"
   ]
  },
  {
   "cell_type": "code",
   "execution_count": 188,
   "metadata": {},
   "outputs": [],
   "source": [
    "#credit=credit.drop('CreditCardUse', axis=1)"
   ]
  },
  {
   "cell_type": "code",
   "execution_count": 190,
   "metadata": {},
   "outputs": [],
   "source": [
    "#credit.to_csv('Credit_Edited')"
   ]
  },
  {
   "cell_type": "code",
   "execution_count": 10,
   "metadata": {},
   "outputs": [],
   "source": [
    "merge1 = pd.read_csv('Debit_Edited')\n",
    "merge2 = pd.read_csv('Debit_Edited1')"
   ]
  },
  {
   "cell_type": "code",
   "execution_count": 13,
   "metadata": {},
   "outputs": [],
   "source": [
    "merge = merge1.append(merge2)"
   ]
  },
  {
   "cell_type": "code",
   "execution_count": 19,
   "metadata": {},
   "outputs": [],
   "source": [
    "#merge= merge.drop('Unnamed: 0', axis=1)\n",
    "merge=merge.drop_duplicates()"
   ]
  },
  {
   "cell_type": "code",
   "execution_count": 25,
   "metadata": {
    "scrolled": true
   },
   "outputs": [],
   "source": [
    "merge.to_csv('Debit_Full')"
   ]
  },
  {
   "cell_type": "code",
   "execution_count": 104,
   "metadata": {},
   "outputs": [],
   "source": [
    "credit = pd.read_csv('Credit_Edited')\n",
    "merge = pd.read_csv('Debit_Full', index_col = 0)"
   ]
  },
  {
   "cell_type": "code",
   "execution_count": 105,
   "metadata": {
    "scrolled": true
   },
   "outputs": [],
   "source": [
    "#credit = credit.drop('Unnamed: 0', axis=1)"
   ]
  },
  {
   "cell_type": "code",
   "execution_count": 106,
   "metadata": {},
   "outputs": [],
   "source": [
    "credit['Credit_Purchase']=1\n",
    "pattern = re.compile(r'PAYMENT*')\n",
    "purch_index= []\n",
    "for i in credit['Stores']:\n",
    "    if pattern.search(i):\n",
    "        purch_index.extend(credit.loc[credit['Stores'] == i].index)\n",
    "purch_index = list(set(purch_index))\n",
    "for i in purch_index:\n",
    "    credit.iloc[i, credit.columns.get_loc('Credit_Purchase')] = 0"
   ]
  },
  {
   "cell_type": "code",
   "execution_count": 107,
   "metadata": {
    "scrolled": true
   },
   "outputs": [],
   "source": [
    "#credit.to_csv('Credit_Edited')\n",
    "merge['Date']= pd.to_datetime(merge['Date'])\n",
    "merge = merge.sort_values(by=['Date'])"
   ]
  },
  {
   "cell_type": "code",
   "execution_count": 130,
   "metadata": {
    "scrolled": true
   },
   "outputs": [
    {
     "data": {
      "text/plain": [
       "<matplotlib.axes._subplots.AxesSubplot at 0x7f4ce006f438>"
      ]
     },
     "execution_count": 130,
     "metadata": {},
     "output_type": "execute_result"
    },
    {
     "data": {
      "image/png": "[encoded data removed]",
      "text/plain": [
       "<Figure size 432x288 with 1 Axes>"
      ]
     },
     "metadata": {
      "needs_background": "light"
     },
     "output_type": "display_data"
    }
   ],
   "source": [
    "merge.reset_index().plot(x = 'index', y = 'Cost')"
   ]
  },
  {
   "cell_type": "code",
   "execution_count": 114,
   "metadata": {},
   "outputs": [],
   "source": [
    "merge = merge.reset_index(drop=True)"
   ]
  },
  {
   "cell_type": "code",
   "execution_count": 132,
   "metadata": {
    "scrolled": true
   },
   "outputs": [
    {
     "data": {
      "text/plain": [
       "-1628.0"
      ]
     },
     "execution_count": 132,
     "metadata": {},
     "output_type": "execute_result"
    }
   ],
   "source": [
    "merge['Cost'].min()"
   ]
  },
  {
   "cell_type": "code",
   "execution_count": 133,
   "metadata": {},
   "outputs": [],
   "source": [
    "merge.to_csv('Debit_Full')"
   ]
  },
  {
   "cell_type": "code",
   "execution_count": 134,
   "metadata": {},
   "outputs": [
    {
     "ename": "NameError",
     "evalue": "name 'hi' is not defined",
     "output_type": "error",
     "traceback": [
      "\u001b[0;31m---------------------------------------------------------------------------\u001b[0m",
      "\u001b[0;31mNameError\u001b[0m                                 Traceback (most recent call last)",
      "\u001b[0;32m<ipython-input-134-55ca6286e3e4>\u001b[0m in \u001b[0;36m<module>\u001b[0;34m\u001b[0m\n\u001b[0;32m----> 1\u001b[0;31m \u001b[0mhi\u001b[0m\u001b[0;34m\u001b[0m\u001b[0;34m\u001b[0m\u001b[0m\n\u001b[0m",
      "\u001b[0;31mNameError\u001b[0m: name 'hi' is not defined"
     ]
    }
   ],
   "source": [
    "hi"
   ]
  },
  {
   "cell_type": "code",
   "execution_count": null,
   "metadata": {},
   "outputs": [],
   "source": []
  }
 ],
 "metadata": {
  "kernelspec": {
   "display_name": "Python 3",
   "language": "python",
   "name": "python3"
  },
  "language_info": {
   "codemirror_mode": {
    "name": "ipython",
    "version": 3
   },
   "file_extension": ".py",
   "mimetype": "text/x-python",
   "name": "python",
   "nbconvert_exporter": "python",
   "pygments_lexer": "ipython3",
   "version": "3.6.7"
  }
 },
 "nbformat": 4,
 "nbformat_minor": 2
}
